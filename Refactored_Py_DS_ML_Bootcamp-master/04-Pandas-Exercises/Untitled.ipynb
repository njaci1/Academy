{
 "cells": [
  {
   "cell_type": "code",
   "execution_count": 6,
   "metadata": {},
   "outputs": [],
   "source": [
    "import pandas as pd"
   ]
  },
  {
   "cell_type": "code",
   "execution_count": 10,
   "metadata": {},
   "outputs": [],
   "source": [
    "notif = pd.read_excel('Notif.xlsx')"
   ]
  },
  {
   "cell_type": "code",
   "execution_count": 23,
   "metadata": {},
   "outputs": [
    {
     "data": {
      "text/plain": [
       "133"
      ]
     },
     "execution_count": 23,
     "metadata": {},
     "output_type": "execute_result"
    }
   ],
   "source": [
    "len(notif['TYPE_NAME'].unique())"
   ]
  },
  {
   "cell_type": "code",
   "execution_count": 20,
   "metadata": {},
   "outputs": [],
   "source": [
    "notif2 = notif.drop_duplicates(subset=['TYPE_NAME']);"
   ]
  },
  {
   "cell_type": "code",
   "execution_count": 21,
   "metadata": {},
   "outputs": [
    {
     "name": "stdout",
     "output_type": "stream",
     "text": [
      "<class 'pandas.core.frame.DataFrame'>\n",
      "Int64Index: 133 entries, 0 to 685008\n",
      "Data columns (total 2 columns):\n",
      "TYPE_NAME    133 non-null object\n",
      "CONTENT      133 non-null object\n",
      "dtypes: object(2)\n",
      "memory usage: 3.1+ KB\n"
     ]
    }
   ],
   "source": [
    "notif2.info()"
   ]
  },
  {
   "cell_type": "code",
   "execution_count": 22,
   "metadata": {},
   "outputs": [
    {
     "data": {
      "text/html": [
       "<div>\n",
       "<style scoped>\n",
       "    .dataframe tbody tr th:only-of-type {\n",
       "        vertical-align: middle;\n",
       "    }\n",
       "\n",
       "    .dataframe tbody tr th {\n",
       "        vertical-align: top;\n",
       "    }\n",
       "\n",
       "    .dataframe thead th {\n",
       "        text-align: right;\n",
       "    }\n",
       "</style>\n",
       "<table border=\"1\" class=\"dataframe\">\n",
       "  <thead>\n",
       "    <tr style=\"text-align: right;\">\n",
       "      <th></th>\n",
       "      <th>TYPE_NAME</th>\n",
       "      <th>CONTENT</th>\n",
       "    </tr>\n",
       "  </thead>\n",
       "  <tbody>\n",
       "    <tr>\n",
       "      <td>0</td>\n",
       "      <td>Register Customer Ts and Cs</td>\n",
       "      <td>Dear 254715609155 - OLIVER SIMIYU SITUMA, than...</td>\n",
       "    </tr>\n",
       "    <tr>\n",
       "      <td>1</td>\n",
       "      <td>Register Customer</td>\n",
       "      <td>Dear 254715609155 - OLIVER SIMIYU SITUMA, you ...</td>\n",
       "    </tr>\n",
       "    <tr>\n",
       "      <td>4</td>\n",
       "      <td>Activate Customer</td>\n",
       "      <td>Welcome to VOOMA! Your phone number is your ac...</td>\n",
       "    </tr>\n",
       "    <tr>\n",
       "      <td>6</td>\n",
       "      <td>Security Credential Wrong</td>\n",
       "      <td>Failed. Your PIN or password is wrong. Please ...</td>\n",
       "    </tr>\n",
       "    <tr>\n",
       "      <td>7</td>\n",
       "      <td>Identity Status Err</td>\n",
       "      <td>Transaction Failed.Call the  KCB Contact Centr...</td>\n",
       "    </tr>\n",
       "    <tr>\n",
       "      <td>...</td>\n",
       "      <td>...</td>\n",
       "      <td>...</td>\n",
       "    </tr>\n",
       "    <tr>\n",
       "      <td>477173</td>\n",
       "      <td>GV50006_WrongMSISDNRange</td>\n",
       "      <td>Failed. You have entered an invalid mobile num...</td>\n",
       "    </tr>\n",
       "    <tr>\n",
       "      <td>525841</td>\n",
       "      <td>M-PESAWithdrawNotify</td>\n",
       "      <td>7CC40LDE24 Completed.You have withdrawn ******...</td>\n",
       "    </tr>\n",
       "    <tr>\n",
       "      <td>598944</td>\n",
       "      <td>Organization Dormant Notification</td>\n",
       "      <td>Your organization identity 004031 - KCB KIMATH...</td>\n",
       "    </tr>\n",
       "    <tr>\n",
       "      <td>666202</td>\n",
       "      <td>Security Credential Status Invalid</td>\n",
       "      <td>Failed. Earlier PIN change request is still in...</td>\n",
       "    </tr>\n",
       "    <tr>\n",
       "      <td>685008</td>\n",
       "      <td>Query Reminder Schedule Successful</td>\n",
       "      <td>The details of Reminder Schedule Asanath: Serv...</td>\n",
       "    </tr>\n",
       "  </tbody>\n",
       "</table>\n",
       "<p>133 rows × 2 columns</p>\n",
       "</div>"
      ],
      "text/plain": [
       "                                 TYPE_NAME  \\\n",
       "0              Register Customer Ts and Cs   \n",
       "1                        Register Customer   \n",
       "4                        Activate Customer   \n",
       "6                Security Credential Wrong   \n",
       "7                      Identity Status Err   \n",
       "...                                    ...   \n",
       "477173            GV50006_WrongMSISDNRange   \n",
       "525841                M-PESAWithdrawNotify   \n",
       "598944   Organization Dormant Notification   \n",
       "666202  Security Credential Status Invalid   \n",
       "685008  Query Reminder Schedule Successful   \n",
       "\n",
       "                                                  CONTENT  \n",
       "0       Dear 254715609155 - OLIVER SIMIYU SITUMA, than...  \n",
       "1       Dear 254715609155 - OLIVER SIMIYU SITUMA, you ...  \n",
       "4       Welcome to VOOMA! Your phone number is your ac...  \n",
       "6       Failed. Your PIN or password is wrong. Please ...  \n",
       "7       Transaction Failed.Call the  KCB Contact Centr...  \n",
       "...                                                   ...  \n",
       "477173  Failed. You have entered an invalid mobile num...  \n",
       "525841  7CC40LDE24 Completed.You have withdrawn ******...  \n",
       "598944  Your organization identity 004031 - KCB KIMATH...  \n",
       "666202  Failed. Earlier PIN change request is still in...  \n",
       "685008  The details of Reminder Schedule Asanath: Serv...  \n",
       "\n",
       "[133 rows x 2 columns]"
      ]
     },
     "execution_count": 22,
     "metadata": {},
     "output_type": "execute_result"
    }
   ],
   "source": [
    "notif2"
   ]
  },
  {
   "cell_type": "code",
   "execution_count": 24,
   "metadata": {},
   "outputs": [],
   "source": [
    "notif2.to_excel('VOOMA_Notifications.xlsx')"
   ]
  },
  {
   "cell_type": "code",
   "execution_count": null,
   "metadata": {},
   "outputs": [],
   "source": []
  }
 ],
 "metadata": {
  "kernelspec": {
   "display_name": "Python 3",
   "language": "python",
   "name": "python3"
  },
  "language_info": {
   "codemirror_mode": {
    "name": "ipython",
    "version": 3
   },
   "file_extension": ".py",
   "mimetype": "text/x-python",
   "name": "python",
   "nbconvert_exporter": "python",
   "pygments_lexer": "ipython3",
   "version": "3.7.4"
  }
 },
 "nbformat": 4,
 "nbformat_minor": 2
}
